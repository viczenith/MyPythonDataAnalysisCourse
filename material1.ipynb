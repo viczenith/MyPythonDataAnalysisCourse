{
 "cells": [
  {
   "attachments": {},
   "cell_type": "markdown",
   "metadata": {},
   "source": [
    "\n",
    "# Python and Jupyter Class with Victor Godwin"
   ]
  },
  {
   "attachments": {},
   "cell_type": "markdown",
   "metadata": {},
   "source": [
    "Course Outline:\n",
    "\n",
    "* Arithmetic operations using Python\n",
    "* Solving problems using variables\n",
    "* Evaluating conditions using Python lang.\n",
    "* Combining conditions with logical operators"
   ]
  },
  {
   "attachments": {},
   "cell_type": "markdown",
   "metadata": {},
   "source": [
    "## Arithmetic Operations using Python"
   ]
  },
  {
   "cell_type": "code",
   "execution_count": null,
   "metadata": {},
   "outputs": [],
   "source": [
    "3 + 4 + 9 + 10"
   ]
  },
  {
   "cell_type": "code",
   "execution_count": null,
   "metadata": {},
   "outputs": [],
   "source": [
    "1000 - 201"
   ]
  },
  {
   "cell_type": "code",
   "execution_count": null,
   "metadata": {},
   "outputs": [],
   "source": [
    "100.89 * (-2348)"
   ]
  },
  {
   "cell_type": "code",
   "execution_count": null,
   "metadata": {},
   "outputs": [],
   "source": [
    "200 / 10"
   ]
  },
  {
   "cell_type": "code",
   "execution_count": null,
   "metadata": {},
   "outputs": [],
   "source": [
    "200 // 10"
   ]
  },
  {
   "cell_type": "code",
   "execution_count": null,
   "metadata": {},
   "outputs": [],
   "source": [
    "200 % 10"
   ]
  },
  {
   "cell_type": "code",
   "execution_count": null,
   "metadata": {},
   "outputs": [],
   "source": [
    "10 ** 2"
   ]
  },
  {
   "attachments": {},
   "cell_type": "markdown",
   "metadata": {},
   "source": [
    "Understanding (BODMAS), Operators like `/` and `*` take precedence over other operators like `+` and `-` in mathematical conventions. You can use parentheses, i.e. `(` and `)`, to specify the order in which operations are performed."
   ]
  },
  {
   "cell_type": "code",
   "execution_count": null,
   "metadata": {},
   "outputs": [],
   "source": [
    "((4 + 12) * (5 - 2)) / (10 ** 3)"
   ]
  },
  {
   "attachments": {},
   "cell_type": "markdown",
   "metadata": {},
   "source": [
    "Types of Arithmetic operators:\n",
    "\n",
    "| Operator   | Interpretation         | Example     | Result    |\n",
    "|------------|-------------------|-------------|-----------|\n",
    "| `+`        | Addition          | `23 + 10`     | `33`       |\n",
    "| `-`        | Subtraction       | `1000 - 201`     | `799`       |\n",
    "| `*`        | Multiplication    | `8 * 12`    | `96`      |\n",
    "| `/`        | Division          | `200 / 10`   | `20.0` |\n",
    "| `//`       | Floor Division    | `200 // 10`  | `20`      |    \n",
    "| `%`        | Modulus/Remainder | `200 % 10`   | `0`       |\n",
    "| `**`       | Exponent          | `10 ** 2`    | `100`     |\n",
    "\n"
   ]
  },
  {
   "attachments": {},
   "cell_type": "markdown",
   "metadata": {},
   "source": [
    "## Using the Arithmentic Oprators above, solve the following:\n",
    "Create cells bellow to solve the following\n",
    "\n",
    "1. The population of a town is 198568. Out of them 45312 are men and 35678 are women. Find the number of children in the town.\n",
    "\n",
    "2. A shopkeeper has 2425 boxes of 24 pencils each. How many pencils do all the boxes have in all?\n",
    "\n",
    "3. Linda bought a coat for $2265 and a saree for $2150. She gave $5000 to the shopkeeper. How much money did the shopkeeper return to her?\n",
    "\n",
    "4. The cost of 21 TV sets is $95844. Find the cost of one TV set.\n",
    "\n",
    "5. A factory produces 24532 bulbs in a month. What is its annual production?"
   ]
  },
  {
   "attachments": {},
   "cell_type": "markdown",
   "metadata": {},
   "source": [
    "## Solving multi-step problems using variables\n",
    "\n",
    "Let's attempt solving the following word problem: \n",
    "\n",
    "> Mark has provision shop and sells a pack of lollipop for $2, and makes a 30% profit. If he sells 1000 packs of lollipop, how much total profit does he make?\n",
    "\n",
    "We can list out the information provided and store them in their unique and gradually convert the word problem into a mathematical expression that can be evaluated.\n",
    "\n",
    "*Mark_cost_of_lollipop ($)* = 2\n",
    "\n",
    "*profit_margin* = 30% = 0.3\n",
    "\n",
    "*profit_per_lollipop ($)* = profit_margin * Mark_cost_of_lollipop = .3 * 2\n",
    "\n",
    "*total_No_of_lollipop* = 1000\n",
    "\n",
    "*total_profit =  1000 * (2*0.3)\n",
    "\n",
    "*Total profit* = total_No_of_lollipop * profit_per_lollipop = 1000 * (.3 * 2)"
   ]
  },
  {
   "cell_type": "code",
   "execution_count": null,
   "metadata": {},
   "outputs": [],
   "source": [
    "1000 * (.3 * 2)"
   ]
  },
  {
   "attachments": {},
   "cell_type": "markdown",
   "metadata": {},
   "source": [
    "Mark makes total profit of $600. While this is a good way to approach the problem, it's not entirely clear by looking at the code cell what the numbers represent. We can give names to each of the numbers by creating Python *variables*.\n",
    "\n",
    "> **Variables**: in programming language as Python, are like containers that stores informations which is called data. The data stored within a variable is called its *value*."
   ]
  },
  {
   "cell_type": "code",
   "execution_count": null,
   "metadata": {},
   "outputs": [],
   "source": [
    "Mark_cost_of_lollipop = 2"
   ]
  },
  {
   "cell_type": "code",
   "execution_count": null,
   "metadata": {},
   "outputs": [],
   "source": [
    "profit_margin = 0.3"
   ]
  },
  {
   "cell_type": "code",
   "execution_count": null,
   "metadata": {},
   "outputs": [],
   "source": [
    "total_No_of_lollipop = 1000"
   ]
  },
  {
   "attachments": {},
   "cell_type": "markdown",
   "metadata": {},
   "source": [
    "You can call any of the variables above have to know their values any cell in this notebook. Example"
   ]
  },
  {
   "cell_type": "code",
   "execution_count": null,
   "metadata": {},
   "outputs": [],
   "source": [
    "Mark_cost_of_lollipop"
   ]
  },
  {
   "attachments": {},
   "cell_type": "markdown",
   "metadata": {},
   "source": [
    "Alright, lets go on..."
   ]
  },
  {
   "cell_type": "code",
   "execution_count": null,
   "metadata": {},
   "outputs": [],
   "source": [
    "profit_per_lollipop = profit_margin * Mark_cost_of_lollipop"
   ]
  },
  {
   "cell_type": "code",
   "execution_count": null,
   "metadata": {},
   "outputs": [],
   "source": [
    "profit_per_lollipop"
   ]
  },
  {
   "cell_type": "code",
   "execution_count": null,
   "metadata": {},
   "outputs": [],
   "source": [
    "Total_profit = total_No_of_lollipop * profit_per_lollipop"
   ]
  },
  {
   "cell_type": "code",
   "execution_count": null,
   "metadata": {},
   "outputs": [],
   "source": [
    "Total_profit"
   ]
  },
  {
   "attachments": {},
   "cell_type": "markdown",
   "metadata": {},
   "source": [
    "Utilizing suitably named variables to store and manipulate data is an effective approach to elucidate the purpose of your code.\n",
    "\n",
    "To exhibit the outcome of the word problem with a user-friendly message, we can accomplish this by employing the `print` *function*.\n",
    "\n",
    "> **Functions**: Functions are reusable sets of instructions. They receive one or more inputs, execute specific operations, and frequently produce an output. Python offers numerous built-in functions such as `print` and additionally allows us to define custom functions."
   ]
  },
  {
   "cell_type": "code",
   "execution_count": null,
   "metadata": {},
   "outputs": [],
   "source": [
    "print(\"Mark makes a total profit of $\", Total_profit ,\" each time he sells a 1000 sticks of lollipop.\")"
   ]
  },
  {
   "attachments": {},
   "cell_type": "markdown",
   "metadata": {},
   "source": [
    "The process of creating a separate code cell for every variable or mathematical operation can become monotonous. Thankfully, Jupyter enables you to write multiple lines of code within a single code cell. The output displayed is determined by the result of the last line of code within the cell.\n",
    "\n",
    "Let's rewrite the solution into a single cell."
   ]
  },
  {
   "cell_type": "code",
   "execution_count": null,
   "metadata": {},
   "outputs": [],
   "source": [
    "#Data in their Variables\n",
    "Mark_cost_of_lollipop = 2\n",
    "profit_margin = 0.3\n",
    "total_No_of_lollipop = 1000\n",
    "\n",
    "#calling above variables for calculation. Store the calculation in another variable\n",
    "profit_per_lollipop = profit_margin * Mark_cost_of_lollipop\n",
    "Total_profit = total_No_of_lollipop * profit_per_lollipop\n",
    "\n",
    "#display the result using the PRINT function\n",
    "print(\"Mark makes a total profit of $\", Total_profit ,\" each time he sells a 1000 sticks of lollipop.\")"
   ]
  },
  {
   "cell_type": "code",
   "execution_count": null,
   "metadata": {},
   "outputs": [],
   "source": [
    "# Less than or equal check - True\n",
    "3 + 6 <= 9"
   ]
  },
  {
   "attachments": {},
   "cell_type": "markdown",
   "metadata": {},
   "source": [
    "Note: the `#` character used in the cell above is what is called *comment* in programming. \n",
    "\n",
    "> **Comments**: Comments are not executed as part of the code, but they serve as helpful notes for humans (including yourself) to understand what the code does. Comments can be placed after a line of code, on a separate line, or even cover multiple lines to provide information and explanations of what the code is all about. \n",
    "\n",
    "Pyhton's Inline and single-line comments start with `#`, whereas multi-line comments begin and end with three quotes, i.e. `\"\"\"`. Here are some examples of code comments:"
   ]
  },
  {
   "cell_type": "code",
   "execution_count": null,
   "metadata": {},
   "outputs": [],
   "source": [
    "Mark_cost_of_lollipop = 2 #inline comment"
   ]
  },
  {
   "cell_type": "code",
   "execution_count": null,
   "metadata": {},
   "outputs": [],
   "source": [
    "#internal comment\n",
    "Mark_cost_of_lollipop = 2"
   ]
  },
  {
   "cell_type": "code",
   "execution_count": null,
   "metadata": {},
   "outputs": [],
   "source": [
    "\"\"\"This is a Multi line Python comment \n",
    "=====and single-line comments start with `#`, \n",
    "whereas multi-line comments begin and end with three quotes, \n",
    ". Here are some examples of code comments:\"\"\"\n",
    "\n",
    "Mark_cost_of_lollipop = 2"
   ]
  },
  {
   "attachments": {},
   "cell_type": "markdown",
   "metadata": {},
   "source": [
    "# Assignment\n",
    "> **EXERCISE 1**: \n",
    "A Nigeria travel company plans to organize a trip to the South Africa by flying a plane. The cost of flying the plane is $3000. Currently, there are 40 people who have registered for the trip. If the company charges $120 per ticket, what will be the profit made by the company? Create variables for each numerical value and utilize suitable arithmetic operations to calculate the profit."
   ]
  },
  {
   "attachments": {},
   "cell_type": "markdown",
   "metadata": {},
   "source": [
    "## Evaluating conditions.\n",
    "\n",
    "Apart from arithmetic operations, Python also provides several operations for comparing numbers & variables. It is called Comparison Operator\n",
    "\n",
    "| Operator    | Description                                                     |\n",
    "|-------------|-----------------------------------------------------------------|\n",
    "| `==`        | Check if operands are equal                                     |\n",
    "| `!=`        | Check if operands are not equal                                 |\n",
    "| `>`         | Check if left operand is greater than right operand             |\n",
    "| `<`         | Check if left operand is less than right operand                |\n",
    "| `>=`        | Check if left operand is greater than or equal to right operand |\n",
    "| `<=`        | Check if left operand is less than or equal to right operand    |\n",
    "\n",
    "The result of a comparison operation is either `True` or `False` (note the uppercase `T` and `F`). These are special keywords in Python. Let's try out some experiments with comparison operators."
   ]
  },
  {
   "cell_type": "code",
   "execution_count": null,
   "metadata": {},
   "outputs": [],
   "source": [
    "Goats = 4\n",
    "Chicken = 5\n",
    "Cows = 3\n",
    "Horses = 4"
   ]
  },
  {
   "cell_type": "code",
   "execution_count": null,
   "metadata": {},
   "outputs": [],
   "source": [
    "# Equality check - True\n",
    "Goats == 1\n",
    "Goats == Horses"
   ]
  },
  {
   "cell_type": "code",
   "execution_count": null,
   "metadata": {},
   "outputs": [],
   "source": [
    "# Equality check - False\n",
    "Goats == Chicken"
   ]
  },
  {
   "cell_type": "code",
   "execution_count": null,
   "metadata": {},
   "outputs": [],
   "source": [
    "# Not equal check - True\n",
    "Goats != Cows"
   ]
  },
  {
   "cell_type": "code",
   "execution_count": null,
   "metadata": {},
   "outputs": [],
   "source": [
    "# Not equal check - False\n",
    "Goats != 3"
   ]
  },
  {
   "cell_type": "code",
   "execution_count": null,
   "metadata": {},
   "outputs": [],
   "source": [
    "# Greater than check - True\n",
    "Chicken > Cows"
   ]
  },
  {
   "cell_type": "code",
   "execution_count": null,
   "metadata": {},
   "outputs": [],
   "source": [
    "# Greater than check - False\n",
    "Goats > Chicken"
   ]
  },
  {
   "cell_type": "code",
   "execution_count": null,
   "metadata": {},
   "outputs": [],
   "source": [
    "# Less than check - True\n",
    "Goats < 10"
   ]
  },
  {
   "cell_type": "code",
   "execution_count": null,
   "metadata": {},
   "outputs": [],
   "source": [
    "# Less than check - False\n",
    "Chicken < Goats"
   ]
  },
  {
   "cell_type": "code",
   "execution_count": null,
   "metadata": {},
   "outputs": [],
   "source": [
    "# Greater than or equal check - True\n",
    "Goats >= 1"
   ]
  },
  {
   "cell_type": "code",
   "execution_count": null,
   "metadata": {},
   "outputs": [],
   "source": [
    "# Greater than or equal check - False\n",
    "Goats >= 3"
   ]
  },
  {
   "cell_type": "code",
   "execution_count": null,
   "metadata": {},
   "outputs": [],
   "source": [
    "# Less than or equal check - True\n",
    "4 + 10 <= 18"
   ]
  },
  {
   "cell_type": "code",
   "execution_count": null,
   "metadata": {},
   "outputs": [],
   "source": [
    "# Less than or equal check - False\n",
    "Goats + Cows <= 3"
   ]
  },
  {
   "attachments": {},
   "cell_type": "markdown",
   "metadata": {},
   "source": [
    "Just like arithmetic operations, the result of a comparison operation can also be stored in a variable."
   ]
  },
  {
   "cell_type": "code",
   "execution_count": null,
   "metadata": {},
   "outputs": [],
   "source": [
    "Mark_cost_of_lollipop = 2\n",
    "lollipop_is_expensive = Mark_cost_of_lollipop >= 5\n",
    "print(\"Is the lollipop expensive?\", lollipop_is_expensive)"
   ]
  },
  {
   "attachments": {},
   "cell_type": "markdown",
   "metadata": {},
   "source": [
    "## 3. Combining conditions with logical operators\n",
    "\n",
    "The logical operators `and`, `or` and `not` operate upon conditions and `True` & `False` values (also known as *booleans*). `and` and `or` operate on two conditions, whereas `not` operates on a single condition.\n",
    "\n",
    "The `and` operator returns `True` when both the conditions evaluate to `True`. Otherwise, it returns `False`.\n",
    "\n",
    "| `a`     | `b`    | `a and b` |\n",
    "|---------|--------|-----------|\n",
    "|  `True` | `True` | `True`    |\n",
    "|  `True` | `False`| `False`   |\n",
    "|  `False`| `True` | `False`   |\n",
    "|  `False`| `False`| `False`   |\n"
   ]
  },
  {
   "cell_type": "code",
   "execution_count": null,
   "metadata": {},
   "outputs": [],
   "source": [
    "Goats"
   ]
  },
  {
   "cell_type": "code",
   "execution_count": null,
   "metadata": {},
   "outputs": [],
   "source": [
    "Goats > 0 and Goats <= 3"
   ]
  },
  {
   "cell_type": "code",
   "execution_count": null,
   "metadata": {},
   "outputs": [],
   "source": [
    "Goats < 0 and Goats <= 3"
   ]
  },
  {
   "cell_type": "code",
   "execution_count": null,
   "metadata": {},
   "outputs": [],
   "source": [
    "Goats > 0 and Goats >= 3"
   ]
  },
  {
   "cell_type": "code",
   "execution_count": null,
   "metadata": {},
   "outputs": [],
   "source": [
    "True and False"
   ]
  },
  {
   "cell_type": "code",
   "execution_count": null,
   "metadata": {},
   "outputs": [],
   "source": [
    "True and True"
   ]
  },
  {
   "attachments": {},
   "cell_type": "markdown",
   "metadata": {},
   "source": [
    "The `or` operator returns `True` if at least one of the conditions evaluates to `True`. It returns `False` only if both conditions are `False`.\n",
    "\n",
    "| `a`     | `b`    | `a or b`  |\n",
    "|---------|--------|-----------|\n",
    "|  `True` | `True` | `True`    |\n",
    "|  `True` | `False`| `True`    |\n",
    "|  `False`| `True` | `True`    |\n",
    "|  `False`| `False`| `False`   |\n",
    "\n"
   ]
  },
  {
   "cell_type": "code",
   "execution_count": null,
   "metadata": {},
   "outputs": [],
   "source": [
    "Cows = 3"
   ]
  },
  {
   "cell_type": "code",
   "execution_count": null,
   "metadata": {},
   "outputs": [],
   "source": [
    "Cows == 3 or Chicken < 0"
   ]
  },
  {
   "cell_type": "code",
   "execution_count": null,
   "metadata": {},
   "outputs": [],
   "source": [
    "Cows != 3 or Goats < 0"
   ]
  },
  {
   "cell_type": "code",
   "execution_count": null,
   "metadata": {},
   "outputs": [],
   "source": [
    "Goats < 0 or True"
   ]
  },
  {
   "cell_type": "code",
   "execution_count": null,
   "metadata": {},
   "outputs": [],
   "source": [
    "False or False"
   ]
  },
  {
   "attachments": {},
   "cell_type": "markdown",
   "metadata": {},
   "source": [
    "The `not` operator returns `False` if a condition is `True` and `True` if the condition is `False`."
   ]
  },
  {
   "cell_type": "code",
   "execution_count": null,
   "metadata": {},
   "outputs": [],
   "source": [
    "not Cows == 3"
   ]
  },
  {
   "cell_type": "code",
   "execution_count": null,
   "metadata": {},
   "outputs": [],
   "source": [
    "not Goats < 0"
   ]
  },
  {
   "cell_type": "code",
   "execution_count": null,
   "metadata": {},
   "outputs": [],
   "source": [
    "not False"
   ]
  },
  {
   "cell_type": "code",
   "execution_count": null,
   "metadata": {},
   "outputs": [],
   "source": [
    "not True"
   ]
  },
  {
   "attachments": {},
   "cell_type": "markdown",
   "metadata": {},
   "source": [
    "Logical operators can be combined to form complex conditions. Use round brackets or parentheses `(` and `)` to indicate the order in which logical operators should be applied."
   ]
  },
  {
   "cell_type": "code",
   "execution_count": null,
   "metadata": {},
   "outputs": [],
   "source": [
    "(2 > 3 and 4 <= 5) or not (Goats < 0 and True)"
   ]
  },
  {
   "cell_type": "code",
   "execution_count": null,
   "metadata": {},
   "outputs": [],
   "source": [
    "not (True and 0 < 1) or (False and True)"
   ]
  },
  {
   "attachments": {},
   "cell_type": "markdown",
   "metadata": {},
   "source": [
    "If parentheses are not used, logical operators are applied from left to right."
   ]
  },
  {
   "cell_type": "code",
   "execution_count": null,
   "metadata": {},
   "outputs": [],
   "source": [
    "not True and 0 < 1 or False and True"
   ]
  },
  {
   "attachments": {},
   "cell_type": "markdown",
   "metadata": {},
   "source": [
    "# Do every assignments in this notebook."
   ]
  }
 ],
 "metadata": {
  "kernelspec": {
   "display_name": "Python 3",
   "language": "python",
   "name": "python3"
  },
  "language_info": {
   "codemirror_mode": {
    "name": "ipython",
    "version": 3
   },
   "file_extension": ".py",
   "mimetype": "text/x-python",
   "name": "python",
   "nbconvert_exporter": "python",
   "pygments_lexer": "ipython3",
   "version": "3.11.3"
  },
  "orig_nbformat": 4
 },
 "nbformat": 4,
 "nbformat_minor": 2
}
